{
 "cells": [
  {
   "cell_type": "code",
   "execution_count": 1,
   "metadata": {},
   "outputs": [],
   "source": [
    "import pandas as pd\n",
    "import numpy as np\n",
    "import random\n",
    "import os\n",
    "np.random.seed(42)"
   ]
  },
  {
   "cell_type": "code",
   "execution_count": 2,
   "metadata": {},
   "outputs": [],
   "source": [
    "def score(satellite_predicted_values, satellite_true_values): \n",
    "    # the division, addition and subtraction are pointwise \n",
    "    smape =  np.mean(np.abs((satellite_predicted_values - satellite_true_values) \n",
    "        / (np.abs(satellite_predicted_values) + np.abs(satellite_true_values))))\n",
    "    return 100 * (1 - smape)"
   ]
  },
  {
   "cell_type": "code",
   "execution_count": 3,
   "metadata": {},
   "outputs": [],
   "source": [
    "raw = pd.read_csv(\"train.csv\")[['x_sim', 'y_sim', 'z_sim', 'Vx_sim', 'Vy_sim', 'Vz_sim']].values\n",
    "real = pd.read_csv(\"train.csv\")[['x', 'y', 'z', 'Vx', 'Vy', 'Vz']].values\n",
    "improved_LM = pd.read_csv('submission1.csv')[['x', 'y', 'z', 'Vx', 'Vy', 'Vz']].values\n",
    "improved_Mixed = pd.read_csv('submission.csv')[['x', 'y', 'z', 'Vx', 'Vy', 'Vz']].values"
   ]
  },
  {
   "cell_type": "code",
   "execution_count": 6,
   "metadata": {},
   "outputs": [
    {
     "name": "stdout",
     "output_type": "stream",
     "text": [
      "649912\n",
      "649912\n"
     ]
    }
   ],
   "source": [
    "print(len(improved_LM))\n",
    "print(len(improved_Mixed))\n",
    "# ha de ser 649912"
   ]
  },
  {
   "cell_type": "code",
   "execution_count": 7,
   "metadata": {},
   "outputs": [
    {
     "name": "stdout",
     "output_type": "stream",
     "text": [
      "81.27485106384843\n",
      "90.46518652296594\n",
      "94.10356206934094\n",
      "92.55976748569901\n"
     ]
    }
   ],
   "source": [
    "print(score(raw, real))\n",
    "print(score(improved_LM, real))\n",
    "print(score(improved_Mixed, real))\n",
    "print(score(improved_LM, improved_Mixed))"
   ]
  }
 ],
 "metadata": {
  "kernelspec": {
   "display_name": "Python 3",
   "language": "python",
   "name": "python3"
  },
  "language_info": {
   "codemirror_mode": {
    "name": "ipython",
    "version": 3
   },
   "file_extension": ".py",
   "mimetype": "text/x-python",
   "name": "python",
   "nbconvert_exporter": "python",
   "pygments_lexer": "ipython3",
   "version": "3.7.5"
  }
 },
 "nbformat": 4,
 "nbformat_minor": 2
}
