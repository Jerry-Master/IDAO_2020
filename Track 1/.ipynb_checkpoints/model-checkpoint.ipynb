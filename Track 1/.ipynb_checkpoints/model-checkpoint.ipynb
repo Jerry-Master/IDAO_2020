{
 "cells": [
  {
   "cell_type": "code",
   "execution_count": 20,
   "metadata": {},
   "outputs": [],
   "source": [
    "import pandas as pd\n",
    "import numpy as np\n",
    "import random\n",
    "import os\n",
    "import keras\n",
    "from tensorflow.keras import models\n",
    "from tensorflow.keras.models import load_model\n",
    "from tensorflow.keras import layers\n",
    "from tensorflow.keras.utils import to_categorical\n",
    "from tensorflow.keras.models import Sequential\n",
    "from tensorflow.keras.layers import Dense\n",
    "from tensorflow.keras.wrappers.scikit_learn import KerasRegressor\n",
    "from sklearn.model_selection import cross_val_score\n",
    "from sklearn.model_selection import KFold\n",
    "from sklearn.preprocessing import StandardScaler\n",
    "from sklearn.pipeline import Pipeline\n",
    "from scipy.ndimage import rotate\n",
    "np.random.seed(42)"
   ]
  },
  {
   "cell_type": "code",
   "execution_count": 25,
   "metadata": {},
   "outputs": [],
   "source": [
    "dd = pd.read_csv(\"train.csv\")\n",
    "dd.head()\n",
    "\n",
    "M = int(0.8 * len(dd))\n",
    "\n",
    "dd2 = dd[['x', 'y', 'z', 'Vx', 'Vy', 'Vz', 'x_sim', 'y_sim', 'z_sim', 'Vx_sim', 'Vy_sim', 'Vz_sim']]\n",
    "dd2 = dd2.sample(frac=1).reset_index(drop=True)\n",
    "\n",
    "dd2.head()\n",
    "\n",
    "train_input = dd2.iloc[0:M][['x_sim', 'y_sim', 'z_sim', 'Vx_sim', 'Vy_sim', 'Vz_sim']].values\n",
    "train_output = dd2.iloc[0:M][['x', 'y', 'z', 'Vx', 'Vy', 'Vz']].values\n",
    "\n",
    "test_input = dd2.iloc[M:][['x_sim', 'y_sim', 'z_sim', 'Vx_sim', 'Vy_sim', 'Vz_sim']].values\n",
    "test_output = dd2.iloc[M:][['x', 'y', 'z', 'Vx', 'Vy', 'Vz']].values"
   ]
  },
  {
   "cell_type": "code",
   "execution_count": 17,
   "metadata": {},
   "outputs": [],
   "source": [
    "def create_model():\n",
    "    model = Sequential()\n",
    "    model.add(Dense(12, input_dim = 6, kernel_initializer='normal', activation='relu'))\n",
    "    model.add(Dense(6, kernel_initializer='normal'))\n",
    "    model.compile(loss = 'mean_squared_error', optimizer='adam')\n",
    "    return model"
   ]
  },
  {
   "cell_type": "code",
   "execution_count": 33,
   "metadata": {},
   "outputs": [],
   "source": [
    "model = create_model()\n",
    "model.summary()\n",
    "history = model.fit(train_input, train_output, epochs=3, batch_size=32)\n",
    "model.save('model2.h5') "
   ]
  },
  {
   "cell_type": "code",
   "execution_count": 21,
   "metadata": {},
   "outputs": [
    {
     "name": "stdout",
     "output_type": "stream",
     "text": [
      "WARNING:tensorflow:From /usr/local/lib/python3.7/site-packages/tensorflow_core/python/keras/initializers.py:143: calling RandomNormal.__init__ (from tensorflow.python.ops.init_ops) with dtype is deprecated and will be removed in a future version.\n",
      "Instructions for updating:\n",
      "Call initializer instance with the dtype argument instead of passing it to the constructor\n",
      "WARNING:tensorflow:From /usr/local/lib/python3.7/site-packages/tensorflow_core/python/ops/resource_variable_ops.py:1630: calling BaseResourceVariable.__init__ (from tensorflow.python.ops.resource_variable_ops) with constraint is deprecated and will be removed in a future version.\n",
      "Instructions for updating:\n",
      "If using Keras pass *_constraint arguments to layers.\n",
      "129983/129983 [==============================] - 2s 12us/sample - loss: 22808250.0360s - loss: 22812499.29\n"
     ]
    },
    {
     "data": {
      "text/plain": [
       "22808250.035950854"
      ]
     },
     "execution_count": 21,
     "metadata": {},
     "output_type": "execute_result"
    }
   ],
   "source": [
    "model = load_model('model1.h5')\n",
    "results = model.evaluate(test_input, test_output)\n",
    "results"
   ]
  },
  {
   "cell_type": "code",
   "execution_count": 22,
   "metadata": {},
   "outputs": [
    {
     "name": "stdout",
     "output_type": "stream",
     "text": [
      "2.1816759696605765\n"
     ]
    }
   ],
   "source": [
    "error_train = np.mean((train_input-train_output)**2)\n",
    "error_test = np.mean((test_input-test_output)**2)\n",
    "\n",
    "print((error_test-results)/error_test * 100)"
   ]
  },
  {
   "cell_type": "code",
   "execution_count": 109,
   "metadata": {},
   "outputs": [
    {
     "data": {
      "text/plain": [
       "pandas.core.series.Series"
      ]
     },
     "execution_count": 109,
     "metadata": {},
     "output_type": "execute_result"
    }
   ],
   "source": [
    "type(ids)"
   ]
  },
  {
   "cell_type": "code",
   "execution_count": 27,
   "metadata": {},
   "outputs": [],
   "source": [
    "FINAL_TEST_RAW = pd.read_csv(\"test.csv\")\n",
    "FINAL_TEST = FINAL_TEST_RAW[['x_sim', 'y_sim', 'z_sim', 'Vx_sim', 'Vy_sim', 'Vz_sim']].values\n",
    "ids = FINAL_TEST_RAW['id']\n",
    "\n",
    "RESULTS = model.predict(FINAL_TEST)"
   ]
  },
  {
   "cell_type": "code",
   "execution_count": 30,
   "metadata": {},
   "outputs": [
    {
     "data": {
      "text/html": [
       "<div>\n",
       "<style scoped>\n",
       "    .dataframe tbody tr th:only-of-type {\n",
       "        vertical-align: middle;\n",
       "    }\n",
       "\n",
       "    .dataframe tbody tr th {\n",
       "        vertical-align: top;\n",
       "    }\n",
       "\n",
       "    .dataframe thead th {\n",
       "        text-align: right;\n",
       "    }\n",
       "</style>\n",
       "<table border=\"1\" class=\"dataframe\">\n",
       "  <thead>\n",
       "    <tr style=\"text-align: right;\">\n",
       "      <th></th>\n",
       "      <th>x</th>\n",
       "      <th>y</th>\n",
       "      <th>z</th>\n",
       "      <th>Vx</th>\n",
       "      <th>Vy</th>\n",
       "      <th>Vz</th>\n",
       "    </tr>\n",
       "    <tr>\n",
       "      <th>id</th>\n",
       "      <th></th>\n",
       "      <th></th>\n",
       "      <th></th>\n",
       "      <th></th>\n",
       "      <th></th>\n",
       "      <th></th>\n",
       "    </tr>\n",
       "  </thead>\n",
       "  <tbody>\n",
       "    <tr>\n",
       "      <th>3927</th>\n",
       "      <td>-12145.327148</td>\n",
       "      <td>-13780.466797</td>\n",
       "      <td>5500.929199</td>\n",
       "      <td>1.137367</td>\n",
       "      <td>5.431465</td>\n",
       "      <td>11.036842</td>\n",
       "    </tr>\n",
       "    <tr>\n",
       "      <th>3928</th>\n",
       "      <td>-6825.518555</td>\n",
       "      <td>-13862.408203</td>\n",
       "      <td>6297.592285</td>\n",
       "      <td>0.908180</td>\n",
       "      <td>5.242375</td>\n",
       "      <td>12.167385</td>\n",
       "    </tr>\n",
       "    <tr>\n",
       "      <th>3929</th>\n",
       "      <td>-289.557068</td>\n",
       "      <td>-12548.290039</td>\n",
       "      <td>6389.449219</td>\n",
       "      <td>0.764357</td>\n",
       "      <td>4.133708</td>\n",
       "      <td>13.651603</td>\n",
       "    </tr>\n",
       "    <tr>\n",
       "      <th>3930</th>\n",
       "      <td>6182.983398</td>\n",
       "      <td>-8777.461914</td>\n",
       "      <td>5240.117188</td>\n",
       "      <td>0.455378</td>\n",
       "      <td>2.266691</td>\n",
       "      <td>12.360672</td>\n",
       "    </tr>\n",
       "    <tr>\n",
       "      <th>3931</th>\n",
       "      <td>10436.258789</td>\n",
       "      <td>-2116.989990</td>\n",
       "      <td>2496.424805</td>\n",
       "      <td>0.096635</td>\n",
       "      <td>0.364832</td>\n",
       "      <td>10.978507</td>\n",
       "    </tr>\n",
       "  </tbody>\n",
       "</table>\n",
       "</div>"
      ],
      "text/plain": [
       "                 x             y            z        Vx        Vy         Vz\n",
       "id                                                                          \n",
       "3927 -12145.327148 -13780.466797  5500.929199  1.137367  5.431465  11.036842\n",
       "3928  -6825.518555 -13862.408203  6297.592285  0.908180  5.242375  12.167385\n",
       "3929   -289.557068 -12548.290039  6389.449219  0.764357  4.133708  13.651603\n",
       "3930   6182.983398  -8777.461914  5240.117188  0.455378  2.266691  12.360672\n",
       "3931  10436.258789  -2116.989990  2496.424805  0.096635  0.364832  10.978507"
      ]
     },
     "execution_count": 30,
     "metadata": {},
     "output_type": "execute_result"
    }
   ],
   "source": [
    "df = pd.DataFrame(data=RESULTS,\n",
    "          index=ids,\n",
    "          columns=['x', 'y', 'z', 'Vx', 'Vy', 'Vz'])\n",
    "df.head()"
   ]
  },
  {
   "cell_type": "code",
   "execution_count": 32,
   "metadata": {
    "scrolled": true
   },
   "outputs": [],
   "source": [
    "df.to_csv('submission.csv')"
   ]
  },
  {
   "cell_type": "code",
   "execution_count": 34,
   "metadata": {},
   "outputs": [],
   "source": [
    "def score(satellite_predicted_values, satellite_true_values): \n",
    "    # the division, addition and subtraction are pointwise \n",
    "    smape =  np.mean(np.abs((satellite_predicted_values - satellite_true_values) \n",
    "        / (np.abs(satellite_predicted_values) + np.abs(satellite_true_values))))\n",
    "    return 100 * (1 - smape)"
   ]
  },
  {
   "cell_type": "code",
   "execution_count": 41,
   "metadata": {},
   "outputs": [
    {
     "data": {
      "text/plain": [
       "81.28598489507178"
      ]
     },
     "execution_count": 41,
     "metadata": {},
     "output_type": "execute_result"
    }
   ],
   "source": [
    "score(train_input, train_output)"
   ]
  },
  {
   "cell_type": "code",
   "execution_count": 54,
   "metadata": {},
   "outputs": [
    {
     "name": "stdout",
     "output_type": "stream",
     "text": [
      "81.71418214042114\n",
      "89.73214660601835\n"
     ]
    }
   ],
   "source": [
    "raw = dd[dd['sat_id'] <= 50][['x_sim', 'y_sim', 'z_sim', 'Vx_sim', 'Vy_sim', 'Vz_sim']].values\n",
    "real = dd[dd['sat_id'] <= 50][['x', 'y', 'z', 'Vx', 'Vy', 'Vz']].values\n",
    "improved = pd.read_csv('respuesta.csv')[['x', 'y', 'z', 'Vx', 'Vy', 'Vz']].values\n",
    "\n",
    "print(score(raw, real))\n",
    "print(score(improved, real))"
   ]
  },
  {
   "cell_type": "code",
   "execution_count": 55,
   "metadata": {},
   "outputs": [
    {
     "data": {
      "text/html": [
       "<div>\n",
       "<style scoped>\n",
       "    .dataframe tbody tr th:only-of-type {\n",
       "        vertical-align: middle;\n",
       "    }\n",
       "\n",
       "    .dataframe tbody tr th {\n",
       "        vertical-align: top;\n",
       "    }\n",
       "\n",
       "    .dataframe thead th {\n",
       "        text-align: right;\n",
       "    }\n",
       "</style>\n",
       "<table border=\"1\" class=\"dataframe\">\n",
       "  <thead>\n",
       "    <tr style=\"text-align: right;\">\n",
       "      <th></th>\n",
       "      <th>id</th>\n",
       "      <th>x</th>\n",
       "      <th>y</th>\n",
       "      <th>z</th>\n",
       "      <th>Vx</th>\n",
       "      <th>Vy</th>\n",
       "      <th>Vz</th>\n",
       "    </tr>\n",
       "  </thead>\n",
       "  <tbody>\n",
       "    <tr>\n",
       "      <th>0</th>\n",
       "      <td>3927.0</td>\n",
       "      <td>-22495.934452</td>\n",
       "      <td>-11366.688061</td>\n",
       "      <td>6860.572330</td>\n",
       "      <td>3.089340</td>\n",
       "      <td>-1.688898</td>\n",
       "      <td>1.311861</td>\n",
       "    </tr>\n",
       "    <tr>\n",
       "      <th>1</th>\n",
       "      <td>3928.0</td>\n",
       "      <td>-17827.604038</td>\n",
       "      <td>-12028.628264</td>\n",
       "      <td>7791.502220</td>\n",
       "      <td>4.015553</td>\n",
       "      <td>-1.322428</td>\n",
       "      <td>1.102546</td>\n",
       "    </tr>\n",
       "    <tr>\n",
       "      <th>2</th>\n",
       "      <td>3929.0</td>\n",
       "      <td>-12094.632841</td>\n",
       "      <td>-11766.870902</td>\n",
       "      <td>8177.746515</td>\n",
       "      <td>5.068902</td>\n",
       "      <td>-0.430307</td>\n",
       "      <td>0.576982</td>\n",
       "    </tr>\n",
       "    <tr>\n",
       "      <th>3</th>\n",
       "      <td>3930.0</td>\n",
       "      <td>-4763.540463</td>\n",
       "      <td>-10206.250935</td>\n",
       "      <td>7633.732958</td>\n",
       "      <td>5.694960</td>\n",
       "      <td>1.557090</td>\n",
       "      <td>-0.653815</td>\n",
       "    </tr>\n",
       "    <tr>\n",
       "      <th>4</th>\n",
       "      <td>3931.0</td>\n",
       "      <td>4250.383329</td>\n",
       "      <td>-6433.975290</td>\n",
       "      <td>5225.552957</td>\n",
       "      <td>4.206566</td>\n",
       "      <td>4.495133</td>\n",
       "      <td>-2.615725</td>\n",
       "    </tr>\n",
       "  </tbody>\n",
       "</table>\n",
       "</div>"
      ],
      "text/plain": [
       "       id             x             y            z        Vx        Vy  \\\n",
       "0  3927.0 -22495.934452 -11366.688061  6860.572330  3.089340 -1.688898   \n",
       "1  3928.0 -17827.604038 -12028.628264  7791.502220  4.015553 -1.322428   \n",
       "2  3929.0 -12094.632841 -11766.870902  8177.746515  5.068902 -0.430307   \n",
       "3  3930.0  -4763.540463 -10206.250935  7633.732958  5.694960  1.557090   \n",
       "4  3931.0   4250.383329  -6433.975290  5225.552957  4.206566  4.495133   \n",
       "\n",
       "         Vz  \n",
       "0  1.311861  \n",
       "1  1.102546  \n",
       "2  0.576982  \n",
       "3 -0.653815  \n",
       "4 -2.615725  "
      ]
     },
     "execution_count": 55,
     "metadata": {},
     "output_type": "execute_result"
    }
   ],
   "source": [
    "dd = pd.read_csv('submission.csv')\n",
    "dd.head()"
   ]
  },
  {
   "cell_type": "code",
   "execution_count": 57,
   "metadata": {},
   "outputs": [
    {
     "data": {
      "text/html": [
       "<div>\n",
       "<style scoped>\n",
       "    .dataframe tbody tr th:only-of-type {\n",
       "        vertical-align: middle;\n",
       "    }\n",
       "\n",
       "    .dataframe tbody tr th {\n",
       "        vertical-align: top;\n",
       "    }\n",
       "\n",
       "    .dataframe thead th {\n",
       "        text-align: right;\n",
       "    }\n",
       "</style>\n",
       "<table border=\"1\" class=\"dataframe\">\n",
       "  <thead>\n",
       "    <tr style=\"text-align: right;\">\n",
       "      <th></th>\n",
       "      <th>id</th>\n",
       "      <th>x</th>\n",
       "      <th>y</th>\n",
       "      <th>z</th>\n",
       "      <th>Vx</th>\n",
       "      <th>Vy</th>\n",
       "      <th>Vz</th>\n",
       "    </tr>\n",
       "  </thead>\n",
       "  <tbody>\n",
       "    <tr>\n",
       "      <th>73946</th>\n",
       "      <td>300001.0</td>\n",
       "      <td>2768.459209</td>\n",
       "      <td>-25007.307615</td>\n",
       "      <td>1963.923676</td>\n",
       "      <td>-0.101854</td>\n",
       "      <td>0.836308</td>\n",
       "      <td>-1.601081</td>\n",
       "    </tr>\n",
       "    <tr>\n",
       "      <th>73947</th>\n",
       "      <td>300002.0</td>\n",
       "      <td>3007.433947</td>\n",
       "      <td>-27232.888552</td>\n",
       "      <td>743.562178</td>\n",
       "      <td>-0.146614</td>\n",
       "      <td>1.232280</td>\n",
       "      <td>-1.727008</td>\n",
       "    </tr>\n",
       "    <tr>\n",
       "      <th>73948</th>\n",
       "      <td>300003.0</td>\n",
       "      <td>3138.423904</td>\n",
       "      <td>-28505.233038</td>\n",
       "      <td>-799.682178</td>\n",
       "      <td>-0.181423</td>\n",
       "      <td>1.541279</td>\n",
       "      <td>-1.778817</td>\n",
       "    </tr>\n",
       "  </tbody>\n",
       "</table>\n",
       "</div>"
      ],
      "text/plain": [
       "             id            x             y            z        Vx        Vy  \\\n",
       "73946  300001.0  2768.459209 -25007.307615  1963.923676 -0.101854  0.836308   \n",
       "73947  300002.0  3007.433947 -27232.888552   743.562178 -0.146614  1.232280   \n",
       "73948  300003.0  3138.423904 -28505.233038  -799.682178 -0.181423  1.541279   \n",
       "\n",
       "             Vz  \n",
       "73946 -1.601081  \n",
       "73947 -1.727008  \n",
       "73948 -1.778817  "
      ]
     },
     "execution_count": 57,
     "metadata": {},
     "output_type": "execute_result"
    }
   ],
   "source": [
    "dd.iloc[73946:73949]"
   ]
  },
  {
   "cell_type": "code",
   "execution_count": null,
   "metadata": {},
   "outputs": [],
   "source": []
  }
 ],
 "metadata": {
  "kernelspec": {
   "display_name": "Python 3",
   "language": "python",
   "name": "python3"
  },
  "language_info": {
   "codemirror_mode": {
    "name": "ipython",
    "version": 3
   },
   "file_extension": ".py",
   "mimetype": "text/x-python",
   "name": "python",
   "nbconvert_exporter": "python",
   "pygments_lexer": "ipython3",
   "version": "3.7.4"
  }
 },
 "nbformat": 4,
 "nbformat_minor": 2
}
