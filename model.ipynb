{
 "cells": [
  {
   "cell_type": "code",
   "execution_count": 38,
   "metadata": {},
   "outputs": [],
   "source": [
    "import pandas as pd\n",
    "import numpy as np\n",
    "import random\n",
    "import os\n",
    "import keras\n",
    "from keras import models\n",
    "from keras.models import load_model\n",
    "from keras import layers\n",
    "from keras.utils import to_categorical\n",
    "from keras.models import Sequential\n",
    "from keras.layers import Dense\n",
    "from keras.wrappers.scikit_learn import KerasRegressor\n",
    "from sklearn.model_selection import cross_val_score\n",
    "from sklearn.model_selection import KFold\n",
    "from sklearn.preprocessing import StandardScaler\n",
    "from sklearn.pipeline import Pipeline\n",
    "from scipy.ndimage import rotate\n",
    "np.random.seed(42)"
   ]
  },
  {
   "cell_type": "code",
   "execution_count": 18,
   "metadata": {},
   "outputs": [],
   "source": [
    "dd = pd.read_csv(\"train.csv\")\n",
    "dd.head()\n",
    "\n",
    "M = int(0.8 * len(dd))\n",
    "\n",
    "dd2 = dd[['x', 'y', 'z', 'Vx', 'Vy', 'Vz', 'x_sim', 'y_sim', 'z_sim', 'Vx_sim', 'Vy_sim', 'Vz_sim']]\n",
    "dd2 = dd2.sample(frac=1).reset_index(drop=True)\n",
    "\n",
    "dd2.head()\n",
    "\n",
    "train_input = dd2.iloc[0:M][['x_sim', 'y_sim', 'z_sim', 'Vx_sim', 'Vy_sim', 'Vz_sim']].values\n",
    "train_output = dd2.iloc[0:M][['x', 'y', 'z', 'Vx', 'Vy', 'Vz']].values\n",
    "\n",
    "test_input = dd2.iloc[M:][['x_sim', 'y_sim', 'z_sim', 'Vx_sim', 'Vy_sim', 'Vz_sim']].values\n",
    "test_output = dd2.iloc[M:][['x', 'y', 'z', 'Vx', 'Vy', 'Vz']].values\n",
    "# Acceso a fila\n",
    "# dd.iloc[i]\n",
    "\n",
    "# Accesso a columna\n",
    "# dd['name']\n",
    "# dd.name"
   ]
  },
  {
   "cell_type": "code",
   "execution_count": 11,
   "metadata": {},
   "outputs": [],
   "source": [
    "def create_model():\n",
    "    model = Sequential()\n",
    "    model.add(Dense(12, input_dim = 6, kernel_initializer='normal', activation='relu'))\n",
    "    model.add(Dense(6, kernel_initializer='normal'))\n",
    "    model.compile(loss = 'mean_squared_error', optimizer='adam')\n",
    "    return model"
   ]
  },
  {
   "cell_type": "code",
   "execution_count": 12,
   "metadata": {},
   "outputs": [
    {
     "name": "stdout",
     "output_type": "stream",
     "text": [
      "Model: \"sequential_4\"\n",
      "_________________________________________________________________\n",
      "Layer (type)                 Output Shape              Param #   \n",
      "=================================================================\n",
      "dense_9 (Dense)              (None, 12)                84        \n",
      "_________________________________________________________________\n",
      "dense_10 (Dense)             (None, 6)                 78        \n",
      "=================================================================\n",
      "Total params: 162\n",
      "Trainable params: 162\n",
      "Non-trainable params: 0\n",
      "_________________________________________________________________\n",
      "Epoch 1/3\n",
      "519929/519929 [==============================] - 22s 43us/step - loss: 27443496.2856\n",
      "Epoch 2/3\n",
      "519929/519929 [==============================] - 22s 43us/step - loss: 22840682.1771\n",
      "Epoch 3/3\n",
      "519929/519929 [==============================] - 21s 41us/step - loss: 22822532.8771\n"
     ]
    }
   ],
   "source": [
    "model = create_model()\n",
    "model.summary()\n",
    "history = model.fit(train_input, train_output, epochs=3, batch_size=32)\n",
    "model.save('model2.h5') "
   ]
  },
  {
   "cell_type": "code",
   "execution_count": 39,
   "metadata": {},
   "outputs": [
    {
     "name": "stdout",
     "output_type": "stream",
     "text": [
      "129983/129983 [==============================] - 2s 19us/step\n"
     ]
    },
    {
     "data": {
      "text/plain": [
       "22174979.498026665"
      ]
     },
     "execution_count": 39,
     "metadata": {},
     "output_type": "execute_result"
    }
   ],
   "source": [
    "model = load_model('model1.h5')\n",
    "results = model.evaluate(test_input, test_output)\n",
    "results"
   ]
  },
  {
   "cell_type": "code",
   "execution_count": 40,
   "metadata": {},
   "outputs": [
    {
     "name": "stdout",
     "output_type": "stream",
     "text": [
      "1.9347056255041315\n"
     ]
    }
   ],
   "source": [
    "error_train = np.mean((train_input-train_output)**2)\n",
    "error_test = np.mean((test_input-test_output)**2)\n",
    "\n",
    "print((error_test-results)/error_test * 100)"
   ]
  },
  {
   "cell_type": "code",
   "execution_count": 109,
   "metadata": {},
   "outputs": [
    {
     "data": {
      "text/plain": [
       "pandas.core.series.Series"
      ]
     },
     "execution_count": 109,
     "metadata": {},
     "output_type": "execute_result"
    }
   ],
   "source": [
    "type(ids)"
   ]
  },
  {
   "cell_type": "code",
   "execution_count": 63,
   "metadata": {},
   "outputs": [],
   "source": [
    "FINAL_TEST_RAW = pd.read_csv(\"test.csv\")\n",
    "FINAL_TEST = FINAL_TEST_RAW[['x_sim', 'y_sim', 'z_sim', 'Vx_sim', 'Vy_sim', 'Vz_sim']].values\n",
    "ids = FINAL_TEST_RAW['id']\n",
    "\n",
    "RESULTS = model.predict(FINAL_TEST)"
   ]
  },
  {
   "cell_type": "code",
   "execution_count": null,
   "metadata": {},
   "outputs": [],
   "source": [
    "df = pd.DataFrame(data=RESULTS,\n",
    "          index=np.array(range(1, 1+len(RESULTS))),\n",
    "          columns=['x', 'y', 'z', 'Vx', 'Vy', 'Vz'])\n",
    "\n",
    "df.insert(0, 'id', 0)\n",
    "\n",
    "\n",
    "\n",
    "\n",
    "df['id'] = ids2\n",
    "\n",
    "#df.rename(columns={'x_sim' : 'x', 'y_sim' : 'y', 'z_sim' : 'z', 'Vx_sim' : 'Vx', 'Vy_sim' : 'Vy', 'Vz_sim' : 'Vz'}, inplace=True)\n",
    "\n",
    "df['id'] = pd.Series(df['id'], dtype='int32')\n",
    "\n"
   ]
  },
  {
   "cell_type": "code",
   "execution_count": 119,
   "metadata": {
    "scrolled": true
   },
   "outputs": [
    {
     "data": {
      "text/plain": [
       "0       1\n",
       "0    3927\n",
       "1    3928\n",
       "2    3929\n",
       "3    3930\n",
       "dtype: int64"
      ]
     },
     "execution_count": 119,
     "metadata": {},
     "output_type": "execute_result"
    }
   ],
   "source": []
  },
  {
   "cell_type": "code",
   "execution_count": 122,
   "metadata": {
    "scrolled": true
   },
   "outputs": [],
   "source": [
    "#df['id'] = df['id'].astype(int)"
   ]
  }
 ],
 "metadata": {
  "kernelspec": {
   "display_name": "Python 3",
   "language": "python",
   "name": "python3"
  },
  "language_info": {
   "codemirror_mode": {
    "name": "ipython",
    "version": 3
   },
   "file_extension": ".py",
   "mimetype": "text/x-python",
   "name": "python",
   "nbconvert_exporter": "python",
   "pygments_lexer": "ipython3",
   "version": "3.7.1"
  }
 },
 "nbformat": 4,
 "nbformat_minor": 2
}
